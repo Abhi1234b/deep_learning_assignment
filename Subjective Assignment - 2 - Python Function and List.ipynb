{
 "cells": [
  {
   "cell_type": "markdown",
   "metadata": {},
   "source": [
    "# Assignments"
   ]
  },
  {
   "cell_type": "markdown",
   "metadata": {},
   "source": [
    "Q1. Write the Python function to get a string made of 4 copies of the last\n",
    "two characters of the specified string (length must be at least 2).\n",
    "\n",
    "    Sample function and result :\n",
    "    insert-end ('Python') -> abababab\n",
    "    insert-end('Exercises') -> jkjkjkjk"
   ]
  },
  {
   "cell_type": "code",
   "execution_count": 3,
   "metadata": {},
   "outputs": [
    {
     "name": "stdout",
     "output_type": "stream",
     "text": [
      "enter the stringabhi\n",
      "hihihihi\n"
     ]
    }
   ],
   "source": [
    "input1=input(\"enter the string\")\n",
    "s=input1[-2:]\n",
    "print(4*s)"
   ]
  },
  {
   "cell_type": "markdown",
   "metadata": {},
   "source": [
    "Q2. Write the python function to get a string made of its first three\n",
    "characters of a specified string. If the length of the string is less than 3\n",
    "then return the original string.\n",
    "    \n",
    "    Sample function and result :\n",
    "    first-three('ipy') -> ipy\n",
    "    first-three('python') -> pyt"
   ]
  },
  {
   "cell_type": "code",
   "execution_count": 7,
   "metadata": {},
   "outputs": [
    {
     "name": "stdout",
     "output_type": "stream",
     "text": [
      "enter the stringvvyuuhi\n",
      "vvy\n"
     ]
    }
   ],
   "source": [
    "input1=input(\"enter the string\")\n",
    "if len(input1)<=3:\n",
    "    print(input1)\n",
    "else:\n",
    "    print(input1[:3])"
   ]
  },
  {
   "cell_type": "markdown",
   "metadata": {},
   "source": [
    "Q3. Write the Python program to find smallest window that contains all\n",
    "characters of the given string?\n",
    "\n",
    "    Original Strings:\n",
    "    asdaewsqgtwwsa\n",
    "    Smallest window that contains all characters of the said string:\n",
    "    Daewsqgt"
   ]
  },
  {
   "cell_type": "code",
   "execution_count": null,
   "metadata": {},
   "outputs": [],
   "source": []
  },
  {
   "cell_type": "markdown",
   "metadata": {},
   "source": [
    "Q4. Write the Python program to count number of substrings from a\n",
    "given string of lowercase alphabets with exactly k distinct (given)\n",
    "characters?\n",
    "\n",
    "    Input a string (lowercase alphabets): wolf\n",
    "    Input k: 4\n",
    "    Number of substrings with exactly 4 distinct characters: 1"
   ]
  },
  {
   "cell_type": "code",
   "execution_count": 9,
   "metadata": {},
   "outputs": [
    {
     "name": "stdout",
     "output_type": "stream",
     "text": [
      "enter the string1wolf abhi kumar miss kiss\n",
      "enter the k distinct4\n",
      "2\n"
     ]
    }
   ],
   "source": [
    "string1=input(\"enter the string1\")\n",
    "k=int(input(\"enter the k distinct\"))\n",
    "l=string1.split(\" \")\n",
    "d=0\n",
    "for i in l:\n",
    "    c=0\n",
    "    for j in range(0,len(i)):\n",
    "        if i[j] not in i[j+1:]:\n",
    "            c=c+1\n",
    "    if c==k:\n",
    "        d=d+1\n",
    "print(d)"
   ]
  },
  {
   "cell_type": "markdown",
   "metadata": {},
   "source": [
    "Q5. Write the Python program to count number of non-empty\n",
    "substrings of the given string?\n",
    "\n",
    "    Input a string: w3resource\n",
    "    Number of substrings:\n",
    "    55"
   ]
  },
  {
   "cell_type": "code",
   "execution_count": null,
   "metadata": {},
   "outputs": [],
   "source": [
    "string1=input(\"enter the string1\")\n",
    "l=len(string1)\n",
    "n=int(l*(l+1)/2)\n",
    "print(\"number of non-empty substrings of the given string is:-\",n)"
   ]
  },
  {
   "cell_type": "markdown",
   "metadata": {},
   "source": [
    "Q6. Write the Python program to count the number of strings where the\n",
    "string length is 2 or more, and first and last character are same\n",
    "from a given list of strings.\n",
    "\n",
    "    Sample List : ['abc', 'xyz', 'wxw', '1331']\n",
    "    Expected Result: 2"
   ]
  },
  {
   "cell_type": "code",
   "execution_count": 15,
   "metadata": {},
   "outputs": [
    {
     "name": "stdout",
     "output_type": "stream",
     "text": [
      "enter the nos of element you wnat in list5\n",
      "enter the element you wnat in listabc\n",
      "enter the element you wnat in listxyz\n",
      "enter the element you wnat in listwxw\n",
      "enter the element you wnat in list'1331'\n",
      "enter the element you wnat in listabca\n",
      "Expected Result:- 3\n"
     ]
    }
   ],
   "source": [
    "n=int(input(\"enter the nos of element you wnat in list\"))\n",
    "l=[]\n",
    "for i in range(0,n):\n",
    "    elem=input(\"enter the element you wnat in list\")\n",
    "    l.append(elem)\n",
    "c=0\n",
    "for i in l:\n",
    "    if len(i)>=2:\n",
    "        if i[0]==i[-1]:\n",
    "            c=c+1\n",
    "print(\"Expected Result:-\",c)\n",
    "        "
   ]
  },
  {
   "cell_type": "markdown",
   "metadata": {},
   "source": [
    "Q7. Write the Python program to get a list, sorted in increasing order by\n",
    "the last element in each tuple from the given list of non-empty\n",
    "tuples?\n",
    "\n",
    "    Sample List - [ (2, 5), (1, 2), (4, 4), (2, 3), (2, 1) ]\n",
    "    Expected Result - [ (2, 1), (1, 2), (2, 3), (4, 4), (2, 5) ]"
   ]
  },
  {
   "cell_type": "code",
   "execution_count": null,
   "metadata": {},
   "outputs": [],
   "source": [
    "n=int(input(\"enter the nos of element you wnat in list\"))\n",
    "l=[]\n",
    "dict1={}\n",
    "for i in range(0,n):\n",
    "    elem=input(\"enter the element in tuple format\")\n",
    "    l.append(elem)\n",
    "dict[l[0][0]]=l[0][1]\n",
    "dict1\n",
    "    "
   ]
  },
  {
   "cell_type": "markdown",
   "metadata": {},
   "source": [
    "Q8. Write the Python program to remove duplicates from a list?"
   ]
  },
  {
   "cell_type": "code",
   "execution_count": null,
   "metadata": {},
   "outputs": [],
   "source": [
    "n=int(input(\"enter the nos of element you wnat in list\"))\n",
    "l=[]\n",
    "for i in range(0,n):\n",
    "    elem=input(\"enter the elements\")\n",
    "l=set(l)\n",
    "print(list(l))\n"
   ]
  },
  {
   "cell_type": "markdown",
   "metadata": {},
   "source": [
    "Q9. Write the Python program to find the list of words that are longer\n",
    "than n from a given list of words?"
   ]
  },
  {
   "cell_type": "code",
   "execution_count": null,
   "metadata": {},
   "outputs": [],
   "source": [
    "string1=input(\"enter the string in comma seprated\")\n",
    "k=int(input(\"enter the k distinct\"))\n",
    "l=string1.split(\",\")\n",
    "d=0\n",
    "for i in l:\n",
    "    c=0\n",
    "    for j in range(0,len(i)):\n",
    "        if i[j] not in i[j+1:]:\n",
    "            c=c+1\n",
    "    if c>k:\n",
    "        d=d+1\n",
    "print(d)"
   ]
  },
  {
   "cell_type": "markdown",
   "metadata": {},
   "source": [
    "Q10. Write the Python program to print a specified list after removing the\n",
    "0th, 4th, and 5th elements?\n",
    "    \n",
    "    Sample List - ['Red', 'Green', 'White', 'Black', 'Pink', 'Yellow']\n",
    "    Expected Output - ['Green', 'White', 'Black']"
   ]
  },
  {
   "cell_type": "code",
   "execution_count": null,
   "metadata": {},
   "outputs": [],
   "source": [
    "n=int(input(\"enter the nos of element you wnat in list\"))\n",
    "l=[]\n",
    "for i in range(0,n):\n",
    "    elem=input(\"enter the elements\")\n",
    "l[1:4]+l[6:]"
   ]
  },
  {
   "cell_type": "markdown",
   "metadata": {},
   "source": [
    "Q11. Write the Python program to generate all permutations of a list in\n",
    "Python?"
   ]
  },
  {
   "cell_type": "code",
   "execution_count": 4,
   "metadata": {},
   "outputs": [
    {
     "name": "stdout",
     "output_type": "stream",
     "text": [
      "enter the value in comma seprted2,3,4,5\n"
     ]
    },
    {
     "data": {
      "text/plain": [
       "[(2, 3, 4, 5),\n",
       " (2, 3, 5, 4),\n",
       " (2, 4, 3, 5),\n",
       " (2, 4, 5, 3),\n",
       " (2, 5, 3, 4),\n",
       " (2, 5, 4, 3),\n",
       " (3, 2, 4, 5),\n",
       " (3, 2, 5, 4),\n",
       " (3, 4, 2, 5),\n",
       " (3, 4, 5, 2),\n",
       " (3, 5, 2, 4),\n",
       " (3, 5, 4, 2),\n",
       " (4, 2, 3, 5),\n",
       " (4, 2, 5, 3),\n",
       " (4, 3, 2, 5),\n",
       " (4, 3, 5, 2),\n",
       " (4, 5, 2, 3),\n",
       " (4, 5, 3, 2),\n",
       " (5, 2, 3, 4),\n",
       " (5, 2, 4, 3),\n",
       " (5, 3, 2, 4),\n",
       " (5, 3, 4, 2),\n",
       " (5, 4, 2, 3),\n",
       " (5, 4, 3, 2)]"
      ]
     },
     "execution_count": 4,
     "metadata": {},
     "output_type": "execute_result"
    }
   ],
   "source": [
    "from itertools import permutations \n",
    "l=list(map(int,input(\"enter the value in comma seprted\").split(\",\")))\n",
    "n=permutations(l)\n",
    "list(n)"
   ]
  },
  {
   "cell_type": "markdown",
   "metadata": {},
   "source": [
    "Q12. Write the Python program to convert a pair of values into a sorted\n",
    "unique array?\n",
    " \n",
    "    Original List- [ (1, 2), (3, 4), (1, 2), (5, 6), (7, 8), (1, 2), (3, 4), (3, 4), (7, 8), (9, 10) ]\n",
    "    Sorted Unique Data- [ 1, 2, 3, 4, 5, 6, 7, 8, 9, 10 ] \n"
   ]
  },
  {
   "cell_type": "code",
   "execution_count": 10,
   "metadata": {},
   "outputs": [
    {
     "name": "stdout",
     "output_type": "stream",
     "text": [
      "[1, 2, 3, 4, 5, 6, 7, 8, 9, 10]\n"
     ]
    }
   ],
   "source": [
    "l=[ (1, 2), (3, 4), (1, 2), (5, 6), (7, 8), (1, 2), (3, 4), (3, 4), (7, 8), (9, 10)]\n",
    "k=[]\n",
    "for i in range(len(l)):\n",
    "    for j in range(2):\n",
    "        k.append(l[i][j])\n",
    "print(sorted(set(k)))\n",
    "        "
   ]
  },
  {
   "cell_type": "markdown",
   "metadata": {},
   "source": [
    "## Great job!"
   ]
  }
 ],
 "metadata": {
  "kernelspec": {
   "display_name": "Python 3",
   "language": "python",
   "name": "python3"
  },
  "language_info": {
   "codemirror_mode": {
    "name": "ipython",
    "version": 3
   },
   "file_extension": ".py",
   "mimetype": "text/x-python",
   "name": "python",
   "nbconvert_exporter": "python",
   "pygments_lexer": "ipython3",
   "version": "3.7.4"
  }
 },
 "nbformat": 4,
 "nbformat_minor": 2
}
