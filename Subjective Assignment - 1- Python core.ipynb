{
 "cells": [
  {
   "cell_type": "markdown",
   "metadata": {},
   "source": [
    "Q1. Write a Python program to get the string from the given string where\n",
    "all the occurrence of its first char has been changed to '$,' except first\n",
    "char itself?\n",
    "\n",
    "    Sample String: 'prospect'\n",
    "    Expected Result : 'pros$ect'\n"
   ]
  },
  {
   "cell_type": "code",
   "execution_count": 1,
   "metadata": {},
   "outputs": [
    {
     "name": "stdout",
     "output_type": "stream",
     "text": [
      "enter the string:-prospect\n",
      "pros$ect\n"
     ]
    }
   ],
   "source": [
    "s=input(\"enter the string:-\")\n",
    "s=list(s)\n",
    "for i in range(1,len(s)):\n",
    "    if s[i]==s[0]:\n",
    "        s[i]='$'\n",
    "s=('').join(s)\n",
    "print(s)"
   ]
  },
  {
   "cell_type": "markdown",
   "metadata": {},
   "source": [
    "Q2. Write a Python program to get the single string from the two given\n",
    "strings, and separated by the space and swap the first two characters of\n",
    "each string?\n",
    "\n",
    "    Sample String : 'abc', 'xyz'.\n",
    "    Expected Result: 'xyc abz'"
   ]
  },
  {
   "cell_type": "code",
   "execution_count": 2,
   "metadata": {},
   "outputs": [
    {
     "name": "stdout",
     "output_type": "stream",
     "text": [
      "enter the two string with comma sepratedabc,def\n",
      "dec abf\n"
     ]
    }
   ],
   "source": [
    "s=input(\"enter the two string with comma seprated\")\n",
    "a=s.split(',')\n",
    "a_new=a[0][0:2]+a[1][2:]\n",
    "b_new=a[1][0:2]+a[0][2:]\n",
    "print(b_new+\" \"+a_new)\n",
    "\n",
    "    \n",
    "\n"
   ]
  },
  {
   "cell_type": "markdown",
   "metadata": {},
   "source": [
    "Q3. Write the Python program to add 'ing' at the end of the given string\n",
    "(length of the string should be at least 3). If given string already ends\n",
    "with 'ing,' then add 'ly' instead. If string length of the given string is less\n",
    "than 3, leave it unchanged?\n",
    "\n",
    "\n",
    "    Sample string: ' abc '\n",
    "    Expected result: ' abcing '\n",
    "    Sample string: ' string '\n",
    "    Expected result: ' stringly '\n"
   ]
  },
  {
   "cell_type": "code",
   "execution_count": 3,
   "metadata": {},
   "outputs": [
    {
     "name": "stdout",
     "output_type": "stream",
     "text": [
      "enter the stringabhi\n",
      "abhiing\n"
     ]
    }
   ],
   "source": [
    "s=input(\"enter the string\")\n",
    "if len(s)<3:\n",
    "    print(s)\n",
    "else:\n",
    "    if s.endswith('ing'):\n",
    "        a=s+\"ly\"\n",
    "    else:\n",
    "        a=s+'ing'\n",
    "print(a)"
   ]
  },
  {
   "cell_type": "markdown",
   "metadata": {},
   "source": [
    "Q4. Write the Python program to find the first appearance of the\n",
    "substring 'not' and 'poor' from the given string, if 'not' follows the 'poor',\n",
    "replace the whole 'not'...' poor' substring with 'good'.Return the resulting\n",
    "string.\n",
    "\n",
    "    Sample string: 'The lyrics are not that poor!'\n",
    "    'The lyrics are poor!'\n",
    "    Expected Result: 'The lyrics are good!'\n",
    "    'The lyrics are poor!'"
   ]
  },
  {
   "cell_type": "code",
   "execution_count": 4,
   "metadata": {},
   "outputs": [
    {
     "name": "stdout",
     "output_type": "stream",
     "text": [
      "enter the stringThe lyrics are not that poor!' 'The lyrics are poor!'\n",
      "The lyrics are good!' 'The lyrics are poor!'\n"
     ]
    }
   ],
   "source": [
    "import re\n",
    "s=input(\"enter the string\")\n",
    "s=re.sub(\"not \\w+ poor\",'good',s)\n",
    "print(s)"
   ]
  },
  {
   "cell_type": "markdown",
   "metadata": {},
   "source": [
    "Q5. Write the Python program to remove the characters which have odd\n",
    "index values of a given string."
   ]
  },
  {
   "cell_type": "code",
   "execution_count": 5,
   "metadata": {},
   "outputs": [
    {
     "name": "stdout",
     "output_type": "stream",
     "text": [
      "enter the stringabhuijdhd\n",
      "ahidd\n"
     ]
    }
   ],
   "source": [
    "s=input(\"enter the string\")\n",
    "s=list(s)\n",
    "s=[s[i] for i in range(0,len(s),2) if i%2==0]\n",
    "s=\"\".join(s)\n",
    "print(s)"
   ]
  },
  {
   "cell_type": "markdown",
   "metadata": {},
   "source": [
    "Q6. Write the python program to print the following floating numbers up\n",
    "to 2 decimal places?"
   ]
  },
  {
   "cell_type": "code",
   "execution_count": 6,
   "metadata": {},
   "outputs": [
    {
     "name": "stdout",
     "output_type": "stream",
     "text": [
      "enter the floating nos1.67890\n",
      "1.68\n"
     ]
    }
   ],
   "source": [
    "f=float(input(\"enter the floating nos\"))\n",
    "print(\"%.2f\"%(f))"
   ]
  },
  {
   "cell_type": "markdown",
   "metadata": {},
   "source": [
    "Q7. Write the Python program to format a number with a percentage?"
   ]
  },
  {
   "cell_type": "code",
   "execution_count": 7,
   "metadata": {},
   "outputs": [
    {
     "name": "stdout",
     "output_type": "stream",
     "text": [
      "enter the nos25\n",
      "25%\n"
     ]
    }
   ],
   "source": [
    "i=int(input(\"enter the nos\"))\n",
    "print(\"%d\"%(i)+'%')"
   ]
  },
  {
   "cell_type": "markdown",
   "metadata": {},
   "source": [
    "Q8. Write the Python program to count occurrences of a substring in a\n",
    "String?"
   ]
  },
  {
   "cell_type": "code",
   "execution_count": 8,
   "metadata": {},
   "outputs": [
    {
     "name": "stdout",
     "output_type": "stream",
     "text": [
      "enter the stringabhi bdbhbfh jadbdb\n",
      "enter the sub stringabhi\n",
      "1\n"
     ]
    }
   ],
   "source": [
    "s=input(\"enter the string\")\n",
    "sub=input(\"enter the sub string\")\n",
    "mat=re.findall(sub,s)\n",
    "print(len(mat))\n",
    "\n"
   ]
  },
  {
   "cell_type": "markdown",
   "metadata": {},
   "source": [
    "Q9. Write the Python program to count repeated characters in a string.\n",
    "\n",
    "    Sample string: ' thequickbrownjumpsoverthelazydog '\n",
    "    \n",
    "    Expected output:\n",
    "    o 3\n",
    "    e 3\n",
    "    u 2\n",
    "    h 2\n",
    "    r 2\n",
    "    t 2"
   ]
  },
  {
   "cell_type": "code",
   "execution_count": 9,
   "metadata": {},
   "outputs": [
    {
     "name": "stdout",
     "output_type": "stream",
     "text": [
      "enter the stringabhishdjffkfkr\n"
     ]
    },
    {
     "data": {
      "text/plain": [
       "Counter({'a': 1,\n",
       "         'b': 1,\n",
       "         'h': 2,\n",
       "         'i': 1,\n",
       "         's': 1,\n",
       "         'd': 1,\n",
       "         'j': 1,\n",
       "         'f': 3,\n",
       "         'k': 2,\n",
       "         'r': 1})"
      ]
     },
     "execution_count": 9,
     "metadata": {},
     "output_type": "execute_result"
    }
   ],
   "source": [
    "from collections import Counter\n",
    "s=input(\"enter the string\")\n",
    "s=list(s)\n",
    "Counter(s)"
   ]
  },
  {
   "cell_type": "markdown",
   "metadata": {},
   "source": [
    "Q10. Write the Python program to print the square and cube symbol in\n",
    "the area of a rectangle and volume of a cylinder?\n",
    "\n",
    "    Sample outputThe area of the rectangle is 1256.66cm2\n",
    "    The volume of the cylinder is 1254.725cm3\n"
   ]
  },
  {
   "cell_type": "code",
   "execution_count": 10,
   "metadata": {},
   "outputs": [
    {
     "name": "stdout",
     "output_type": "stream",
     "text": [
      "enter the area of rectangle1.526\n",
      "enter the volume of cylinder2555\n",
      "The area of the rectangle is 1.526000cm2\n",
      "The volume of the cylinder is 2555.000000cm3\n"
     ]
    }
   ],
   "source": [
    "i=float(input(\"enter the area of rectangle\"))\n",
    "j=float(input(\"enter the volume of cylinder\"))\n",
    "print(\"The area of the rectangle is %fcm2\"%(i))\n",
    "print(\"The volume of the cylinder is %fcm3\"%(j))\n"
   ]
  },
  {
   "cell_type": "markdown",
   "metadata": {},
   "source": [
    "Q11. Write the Python program to check if a string contains all letters of\n",
    "the alphabet?"
   ]
  },
  {
   "cell_type": "code",
   "execution_count": 11,
   "metadata": {},
   "outputs": [
    {
     "name": "stdout",
     "output_type": "stream",
     "text": [
      "enter the stringsncjdnjdsn\n",
      "False\n"
     ]
    }
   ],
   "source": [
    "s=input(\"enter the string\")\n",
    "sub=\"abcdefghijklmnopqrstuvwxyz\"\n",
    "for char in sub:\n",
    "    if char not in s.lower():\n",
    "        print(False)\n",
    "        break\n",
    "else:\n",
    "    print(True)\n",
    "\n"
   ]
  },
  {
   "cell_type": "markdown",
   "metadata": {},
   "source": [
    "Q12. Write the Python program to find the second most repeated word\n",
    "in a given string?"
   ]
  },
  {
   "cell_type": "code",
   "execution_count": 14,
   "metadata": {},
   "outputs": [
    {
     "name": "stdout",
     "output_type": "stream",
     "text": [
      "enter the string:-abhi hjkh abhi jhjk kumar kumar bddhh\n",
      "jhjk\n"
     ]
    }
   ],
   "source": [
    "s=input(\"enter the string:-\")\n",
    "a=s.split(\" \")\n",
    "\n",
    "d={}\n",
    "for i in a:\n",
    "    c=0\n",
    "    for j in range(0,len(a)):\n",
    "        if a[j]==i:\n",
    "            c=c+1\n",
    "    d[i]=c\n",
    "a=sorted(d)\n",
    "print(a[-2])\n",
    "        "
   ]
  },
  {
   "cell_type": "markdown",
   "metadata": {},
   "source": [
    "Q13. Write the Python program to find the minimum window in the given\n",
    "string, which will contains all the characters of another given\n",
    "strings?\n",
    "\n",
    "    Example 1\n",
    "    Input : string1 = \" PRWSOERIUSFK \"\n",
    "    string2 = \" OSU \"\n",
    "    Output: Minimum window is \"OERIUS\""
   ]
  },
  {
   "cell_type": "code",
   "execution_count": null,
   "metadata": {},
   "outputs": [],
   "source": [
    "string1=input(\"enter the string1\")\n",
    "string2=input(\"enter the string2\")\n",
    "if len(string1)<len(string2):\n",
    "    print(\"there is no window\")\n",
    "for i in range(0,len(string1)):\n",
    "    if \n",
    "    \n",
    "    \n",
    "    \n",
    "    \n",
    "\n",
    "\n",
    "\n",
    "\n",
    "\n",
    "\n"
   ]
  },
  {
   "cell_type": "markdown",
   "metadata": {},
   "source": [
    "Q14. Write the Python program to count number of substrings from a\n",
    "given string of lowercase alphabets with exactly k distinct (given)\n",
    "characters?\n",
    "\n",
    "    Input a string (lowercase alphabets): wolf\n",
    "    Input k: 4\n",
    "    Number of substrings with exactly 4 distinct characters: 1"
   ]
  },
  {
   "cell_type": "code",
   "execution_count": 15,
   "metadata": {},
   "outputs": [
    {
     "name": "stdout",
     "output_type": "stream",
     "text": [
      "enter the string1abhishek kumar bshdjdbd hshbdh\n",
      "enter the k distinct5\n",
      "2\n"
     ]
    }
   ],
   "source": [
    "string1=input(\"enter the string1\")\n",
    "k=int(input(\"enter the k distinct\"))\n",
    "l=string1.split(\" \")\n",
    "d=0\n",
    "for i in l:\n",
    "    c=0\n",
    "    for j in range(0,len(i)):\n",
    "        if i[j] not in i[j+1:]:\n",
    "            c=c+1\n",
    "    if c==k:\n",
    "        d=d+1\n",
    "print(d)\n",
    "        \n",
    "            \n",
    "        \n",
    "        \n",
    "        \n",
    "    \n",
    "\n",
    "\n"
   ]
  },
  {
   "cell_type": "markdown",
   "metadata": {},
   "source": [
    "Q15. Write the Python program to count number of substrings with same\n",
    "first and last characters of the given string?\n",
    "\n",
    "    Input a string: abcd\n",
    "    4\n"
   ]
  },
  {
   "cell_type": "code",
   "execution_count": 16,
   "metadata": {},
   "outputs": [
    {
     "name": "stdout",
     "output_type": "stream",
     "text": [
      "enter the string1abhi bhi abhi ahdhdi dhbdi ashdhdi\n",
      "enter the comparing stringavghi\n",
      "4\n"
     ]
    }
   ],
   "source": [
    "import re\n",
    "string1=input(\"enter the string1\")\n",
    "string2=input(\"enter the comparing string\")\n",
    "l=len(string2)-1\n",
    "mat=re.findall(r\"\"+string2[0]+\"\\w+\"+string2[l]+\"\",string1)\n",
    "print(len(mat))"
   ]
  },
  {
   "cell_type": "markdown",
   "metadata": {},
   "source": [
    "## Great Job!"
   ]
  }
 ],
 "metadata": {
  "kernelspec": {
   "display_name": "Python 3",
   "language": "python",
   "name": "python3"
  },
  "language_info": {
   "codemirror_mode": {
    "name": "ipython",
    "version": 3
   },
   "file_extension": ".py",
   "mimetype": "text/x-python",
   "name": "python",
   "nbconvert_exporter": "python",
   "pygments_lexer": "ipython3",
   "version": "3.7.6"
  }
 },
 "nbformat": 4,
 "nbformat_minor": 2
}
