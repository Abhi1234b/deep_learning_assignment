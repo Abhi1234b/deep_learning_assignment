{
 "cells": [
  {
   "cell_type": "markdown",
   "metadata": {},
   "source": [
    "## Problem Statement"
   ]
  },
  {
   "cell_type": "markdown",
   "metadata": {},
   "source": [
    "Q.1 Write a Python Program to implement your own myreduce() function which works exactly like\n",
    "Python's built-in function reduce()\n"
   ]
  },
  {
   "cell_type": "code",
   "execution_count": 25,
   "metadata": {},
   "outputs": [
    {
     "data": {
      "text/plain": [
       "113"
      ]
     },
     "execution_count": 25,
     "metadata": {},
     "output_type": "execute_result"
    }
   ],
   "source": [
    "def myreduce(func,param):\n",
    "    a=param[0]\n",
    "    for i in range(1,len(param)):\n",
    "        b=param[i]\n",
    "        c=func(a,b)\n",
    "        a=c;\n",
    "    return a;\n",
    "lst =[47,11,42,13]\n",
    "myreduce(lambda x,y: x+y,lst)\n",
    "        "
   ]
  },
  {
   "cell_type": "markdown",
   "metadata": {},
   "source": [
    "Q.2 Write a Python program to implement your own myfilter() function which works exactly like\n",
    "Python's built-in function filter()"
   ]
  },
  {
   "cell_type": "code",
   "execution_count": 39,
   "metadata": {},
   "outputs": [
    {
     "data": {
      "text/plain": [
       "[0, 2, 4, 6, 8, 10, 12, 14, 16, 18]"
      ]
     },
     "execution_count": 39,
     "metadata": {},
     "output_type": "execute_result"
    }
   ],
   "source": [
    "def myfilter(func,param):\n",
    "    l=[]\n",
    "    \n",
    "    for i in range(0,len(param)):\n",
    "        a=param[i]\n",
    "        c=func(a)\n",
    "        if(c==1):\n",
    "            l.append(a)\n",
    "    return l;\n",
    "lst =range(20)\n",
    "myfilter(lambda x: x%2==0,lst)"
   ]
  },
  {
   "cell_type": "markdown",
   "metadata": {},
   "source": [
    "Q.3 Implement List comprehensions to produce the following lists.\n",
    "   Write List comprehensions to produce the following Lists\n",
    "   \n",
    "    ['A', 'C', 'A', 'D', 'G', 'I', ’L’, ‘ D’]\n",
    "   \n",
    "    ['x', 'xx', 'xxx', 'xxxx', 'y', 'yy', 'yyy', 'yyyy', 'z', 'zz', 'zzz', 'zzzz']\n",
    "\n",
    "    ['x', 'y', 'z', 'xx', 'yy', 'zz', 'xx', 'yy', 'zz', 'xxxx', 'yyyy', 'zzzz']\n",
    "    \n",
    "    [[2], [3], [4], [3], [4], [5], [4], [5], [6]]\n",
    "\n",
    "    [[2, 3, 4, 5], [3, 4, 5, 6], [4, 5, 6, 7], [5, 6, 7, 8]]\n",
    "\n",
    "    [(1, 1), (2, 1), (3, 1), (1, 2), (2, 2), (3, 2), (1, 3), (2, 3), (3, 3)]"
   ]
  },
  {
   "cell_type": "code",
   "execution_count": 19,
   "metadata": {},
   "outputs": [
    {
     "name": "stdout",
     "output_type": "stream",
     "text": [
      "['A', 'C', 'A', 'D', 'G', 'I', 'L', 'D']\n",
      "['x', 'xx', 'xxx', 'xxxx', 'y', 'yy', 'yyy', 'yyyy', 'z', 'zz', 'zzz', 'zzzz']\n",
      "['x', 'y', 'z', 'xx', 'yy', 'zz', 'xxx', 'yyy', 'zzz', 'xxxx', 'yyyy', 'zzzz']\n",
      "[[2], [3], [4], [3], [4], [5], [4], [5], [6]]\n",
      "[[2, 3, 4, 5], [3, 4, 5, 6], [4, 5, 6, 7], [5, 6, 7, 8]]\n",
      "[(1, 1), (1, 2), (1, 3), (2, 1), (2, 2), (2, 3), (3, 1), (3, 2), (3, 3)]\n"
     ]
    }
   ],
   "source": [
    "word='ACADGILD'\n",
    "a=[x for x in word]\n",
    "print(a)\n",
    "input_list=['x','y','z']\n",
    "l1=[i*n for i in l for n in range(1,5)]\n",
    "print(l1)\n",
    "l2=[i*n for i in range(1,5) for n in l ]\n",
    "print(l2)\n",
    "input_list=[2,3,4]\n",
    "l4=[[i+n] for i in l3 for n in range(0,3)]\n",
    "print(l4)\n",
    "input_list=[2,3,4,5]\n",
    "l5=[[i+n for i in input_list] for n in range(0,4)]\n",
    "print(l5)\n",
    "input_list=[1,2,3]\n",
    "l6=[(i,n)for i in input_list for n in range(1,4)]\n",
    "print(l6)\n"
   ]
  },
  {
   "cell_type": "markdown",
   "metadata": {},
   "source": [
    "Q.4 Implement a function longestWord() that takes a list of words and returns the longest one."
   ]
  },
  {
   "cell_type": "code",
   "execution_count": 26,
   "metadata": {},
   "outputs": [
    {
     "name": "stdout",
     "output_type": "stream",
     "text": [
      "enter the words with comma sepratedhate,kiss,misssss,killed,lick,hug\n",
      "misssss\n"
     ]
    }
   ],
   "source": [
    "def longestWord(word):\n",
    "    s=word.split(\",\")\n",
    "    l=len(s[0])\n",
    "    index=0\n",
    "    for i in range(1,len(s)-1):\n",
    "        if len(s[i])>l:\n",
    "            l=len(s[i])\n",
    "            index=i\n",
    "    return s[index]\n",
    "s=input(\"enter the words with comma seprated\")\n",
    "print(longestWord(s))\n",
    "\n",
    "        "
   ]
  },
  {
   "cell_type": "markdown",
   "metadata": {},
   "source": [
    "Q.5 Write a Python Program(with class concepts) to find the area of the triangle using the below\n",
    "formula.\n",
    "\n",
    "area = (s*(s-a)*(s-b)*(s-c)) ** 0.5\n",
    "\n",
    "Function to take the length of the sides of triangle from user should be defined in the parent\n",
    "class and function to calculate the area should be defined in subclass."
   ]
  },
  {
   "cell_type": "code",
   "execution_count": 16,
   "metadata": {},
   "outputs": [
    {
     "name": "stdout",
     "output_type": "stream",
     "text": [
      "enter the length5\n",
      "enter the breadth4\n",
      "enter the height6\n"
     ]
    },
    {
     "data": {
      "text/plain": [
       "9.921567416492215"
      ]
     },
     "execution_count": 16,
     "metadata": {},
     "output_type": "execute_result"
    }
   ],
   "source": [
    "import math\n",
    "class shape:\n",
    "    def __init__(self):\n",
    "        self.a=float(input(\"enter the length\"))\n",
    "        self.b=float(input(\"enter the breadth\"))\n",
    "        self.c=float(input(\"enter the height\"))\n",
    "        self.s=(self.a+self.b+self.c)/2\n",
    "class triangle(shape):\n",
    "    def Area(self):\n",
    "        area=math.sqrt(self.s*(self.s-self.a)*(self.s-self.b)*(self.s-self.c))\n",
    "        return area;\n",
    "obj=triangle()\n",
    "print(obj.Area())\n",
    "        \n",
    "        "
   ]
  },
  {
   "cell_type": "markdown",
   "metadata": {},
   "source": [
    "Q.6 Write a function filter_long_words() that takes a list of words and an integer n and returns the list\n",
    "of words that are longer than n."
   ]
  },
  {
   "cell_type": "code",
   "execution_count": 83,
   "metadata": {},
   "outputs": [
    {
     "name": "stdout",
     "output_type": "stream",
     "text": [
      "enter the comma seprated wordsabhi,kumar,dfjfnej,djfhhgkf,bchch,thk,bhago\n",
      "enter the length4\n",
      "['kumar', 'dfjfnej', 'djfhhgkf', 'bchch', 'bhago']\n"
     ]
    }
   ],
   "source": [
    "def filter_long_words(word,n):\n",
    "    l=[]\n",
    "    s=word.split(\",\")\n",
    "    for i in s:\n",
    "        if len(i)>n:\n",
    "            l.append(i)\n",
    "    return l\n",
    "words=input(\"enter the comma seprated words\")\n",
    "n=int(input(\"enter the length\"))\n",
    "print(filter_long_words(words,n))\n",
    "            "
   ]
  },
  {
   "cell_type": "markdown",
   "metadata": {},
   "source": [
    "Q.7 Write a Python program using function concept that maps list of words into a list of integers\n",
    "representing the lengths of the corresponding words.\n",
    "    \n",
    "    Hint: If a list [ ab,cde,erty] is passed on to the python function output should come as [2,3,4]\n",
    "    Here 2,3 and 4 are the lengths of the words in the list."
   ]
  },
  {
   "cell_type": "code",
   "execution_count": 10,
   "metadata": {},
   "outputs": [
    {
     "name": "stdout",
     "output_type": "stream",
     "text": [
      "enter the nos of input in the list3\n",
      "enter the wordsabhi\n",
      "enter the wordsnnnn\n",
      "enter the wordskdnkknfk\n",
      "[4, 4, 8]\n"
     ]
    }
   ],
   "source": [
    "l=[]\n",
    "n=int(input(\"enter the nos of input in the list\"))\n",
    "for i in range(n):\n",
    "    s=input(\"enter the words\")\n",
    "    l.append(s)\n",
    "output=[len(x) for x in l]\n",
    "print(output)"
   ]
  },
  {
   "cell_type": "markdown",
   "metadata": {},
   "source": [
    "Q.8 Write a Python function which takes a character (i.e. a string of length 1) and returns True if it is\n",
    "a vowel, False otherwise."
   ]
  },
  {
   "cell_type": "code",
   "execution_count": 5,
   "metadata": {},
   "outputs": [
    {
     "name": "stdout",
     "output_type": "stream",
     "text": [
      "enter the character:-j\n",
      "False\n"
     ]
    }
   ],
   "source": [
    "s=input(\"enter the character:-\")\n",
    "if s in \"AEIOUaeiou\":\n",
    "    print(True)\n",
    "else:\n",
    "    print(False)"
   ]
  },
  {
   "cell_type": "markdown",
   "metadata": {},
   "source": [
    "## Great job!"
   ]
  }
 ],
 "metadata": {
  "kernelspec": {
   "display_name": "Python 3",
   "language": "python",
   "name": "python3"
  },
  "language_info": {
   "codemirror_mode": {
    "name": "ipython",
    "version": 3
   },
   "file_extension": ".py",
   "mimetype": "text/x-python",
   "name": "python",
   "nbconvert_exporter": "python",
   "pygments_lexer": "ipython3",
   "version": "3.7.6"
  }
 },
 "nbformat": 4,
 "nbformat_minor": 2
}
